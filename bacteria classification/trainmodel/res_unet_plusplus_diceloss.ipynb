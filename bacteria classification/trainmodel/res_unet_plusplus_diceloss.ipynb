{
 "cells": [
  {
   "cell_type": "code",
   "execution_count": 49,
   "metadata": {
    "colab": {
     "base_uri": "https://localhost:8080/"
    },
    "id": "JUCguqSlMtPl",
    "outputId": "7fa8fe8b-f257-4dd6-9df8-b33956b0f5fd"
   },
   "outputs": [
    {
     "name": "stdout",
     "output_type": "stream",
     "text": [
      "2.6.0\n"
     ]
    }
   ],
   "source": [
    "from __future__ import print_function\n",
    "import numpy as np\n",
    "import cv2\n",
    "from keras.models import load_model\n",
    "from resunet import ResUnet\n",
    "import time\n",
    "from unet2 import *\n",
    "from mydatabinary import *\n",
    "from keras.models import Model\n",
    "from keras.callbacks import ModelCheckpoint, CSVLogger\n",
    "import keras.backend as K\n",
    "K.set_image_data_format('channels_last')\n",
    "import os,cv2, sys, math , csv\n",
    "from keras import optimizers\n",
    "from pathlib import Path\n",
    "from m_resunet import ResUnetPlusPlus\n",
    "print(tf.__version__)\n"
   ]
  },
  {
   "cell_type": "code",
   "execution_count": 50,
   "metadata": {
    "id": "znbLJGs0MqQp"
   },
   "outputs": [],
   "source": [
    "def fscore1(y_true,y_pred):\n",
    "\n",
    "    y_true = y_true[:,:,:,1]\n",
    "    y_pred = y_pred[:,:,:,1]\n",
    "    y_true = K.round(K.flatten(y_true))\n",
    "\n",
    "    y_pred = K.round(K.flatten(y_pred)) \n",
    "    true_positives = K.sum(y_true * y_pred)\n",
    "    predicted_positives = K.sum(y_pred)\n",
    "    possible_positives = K.sum(y_true)\n",
    "    precision = true_positives / (predicted_positives+ K.epsilon())   \n",
    "    recall = true_positives / (possible_positives+ K.epsilon())  \n",
    "    f_score = 2*precision*recall /(precision+recall+ K.epsilon())\n",
    "    return f_score\n",
    "\n",
    "def fscore(y_true,y_pred):\n",
    "  f_score=0\n",
    "  for i in range(4):\n",
    "    y_true1=y_true[i,:,:,:]\n",
    "    c=tf.math.argmax(tf.raw_ops.UniqueV2(x=tf.reshape(y_true1,[-1,34]),axis=[0])[1])\n",
    "    y_true = y_true[i,:,:,c]\n",
    "    y_pred = y_pred[i,:,:,c]\n",
    "    y_true = K.round(K.flatten(y_true))\n",
    "\n",
    "    y_pred = K.round(K.flatten(y_pred)) \n",
    "    true_positives = K.sum(y_true * y_pred)\n",
    "    predicted_positives = K.sum(y_pred)\n",
    "    possible_positives = K.sum(y_true)\n",
    "    precision = true_positives / (predicted_positives+ K.epsilon())   \n",
    "    recall = true_positives / (possible_positives+ K.epsilon())  \n",
    "    f_score = f_score + (2*precision*recall /(precision+recall+ K.epsilon()))\n",
    "  return f_score/4\n",
    "  \n",
    "def weighted_dice_loss(weights):\n",
    "  def dice_loss(y_true, y_pred):\n",
    "    Kweights = K.constant(weights)\n",
    "    y_true = tf.cast(y_true, tf.float32)\n",
    "    #y_pred = tf.math.sigmoid(y_pred)\n",
    "    numerator = 2 * tf.reduce_sum(y_true * y_pred)\n",
    "    denominator = tf.reduce_sum(y_true + y_pred)\n",
    "    return 1 - numerator*Kweights / denominator   \n",
    "  return dice_loss\n",
    "\n",
    "def custom_loss(y_true,y_pred):\n",
    "  loss = -K.mean(weights*y_true*K.log(y_pred+K.epsilon()))\n",
    "  return loss\n",
    "\n",
    "def weighted_categorical_crossentropy(weights):\n",
    "    # weights = [0.9,0.05,0.04,0.01]\n",
    "    def wcce(y_true, y_pred):\n",
    "        Kweights = K.constant(weights)\n",
    "        #if not K.is_tensor(y_pred): y_pred = K.constant(y_pred)\n",
    "        y_true = K.cast(y_true, y_pred.dtype)\n",
    "        return K.categorical_crossentropy(y_true, y_pred) * K.sum(y_true * Kweights, axis=-1)\n",
    "    return wcce"
   ]
  },
  {
   "cell_type": "code",
   "execution_count": 51,
   "metadata": {},
   "outputs": [],
   "source": [
    "# img1=cv2.imread(\"D:\\\\bac_clas\\\\data\\\\diabs\\\\Acinetobacter.baumanii\\\\masked\\\\Acinetobacter.baumanii_0004_gt.tif\")\n",
    "# img=cv2.imread(\"D:\\\\bac_clas\\\\data\\\\diabs\\\\Actinomyces.israeli\\\\masked\\\\Actinomyces.israeli_0002_gt.tif\")\n",
    "# img=cv2.cvtColor(img,cv2.COLOR_BGR2RGB)\n",
    "# img1=cv2.cvtColor(img1,cv2.COLOR_BGR2RGB)\n",
    "# img111=cv2.imread(\"D:\\\\bac_clas\\\\data\\\\diabs\\\\Acinetobacter.baumanii\\\\masked\\\\Acinetobacter.baumanii_0004_gt.tif\")\n",
    "# img111=cv2.cvtColor(img111,cv2.COLOR_BGR2RGB)\n",
    "# img=np.uint8(np.stack((img1,img1,img,img)))[:,0:512,0:512,:]\n",
    "# img1=np.uint8(np.stack((img1,img1,img1,img1)))[:,0:512,0:512,:]\n",
    "# img22=one_hot(img)\n",
    "# img11=one_hot(img1)\n",
    "# img111=one_hot(img111)\n",
    "# # tf.print(fscore(img11,img11))\n",
    "# c=np.unique(img11[1].reshape((-1,34)),axis=0)[1]\n"
   ]
  },
  {
   "cell_type": "code",
   "execution_count": 52,
   "metadata": {},
   "outputs": [],
   "source": [
    "# c=np.unique(img11[1],axis=0)[1]\n",
    "# imgt=tf.convert_to_tensor(\n",
    "#     img11[1], dtype=None, dtype_hint=None, name=None\n",
    "# )\n",
    "# tf.raw_ops.UniqueV2(x=tf.reshape(imgt,[-1,34]),axis=[0])"
   ]
  },
  {
   "cell_type": "code",
   "execution_count": 53,
   "metadata": {},
   "outputs": [],
   "source": [
    "# for i in range(10):\n"
   ]
  },
  {
   "cell_type": "code",
   "execution_count": null,
   "metadata": {},
   "outputs": [],
   "source": []
  },
  {
   "cell_type": "code",
   "execution_count": 54,
   "metadata": {
    "id": "-_vO8tcQM1BV"
   },
   "outputs": [],
   "source": [
    "path = os.path.dirname(os.getcwd())\n",
    "path = Path(path)\n",
    "magnification = \"100x\"\n",
    "\n",
    "val_name = path/\"data/validationcr\"\n",
    "train_name = path/\"data/traincr/\"\n",
    "csv_name = path/\"modeloutputs/results/resUnetpp_weighted_cce_loss_DiBaS_dataset_both_gp_gn1.csv\"\n",
    "weights_folder =path/\"modeloutputs/weights/weights_resUnetpp_weighted_cce_loss_DiBaS_dataset_both_gp_gn\"\n",
    "model_name_morph = path/\"modeloutputs/modelh5\"\n",
    "\n",
    "batch_size = 4 # No. of images in a batch\n",
    "size = 512\n",
    "\n",
    "\n",
    "data_gen_train = dict(rotation_range=10,\n",
    "                    horizontal_flip=True,\n",
    "                    width_shift_range=5,\n",
    "                    height_shift_range=5,\n",
    "\t   \t              vertical_flip=True,\n",
    "                    fill_mode='nearest')\n"
   ]
  },
  {
   "cell_type": "code",
   "execution_count": null,
   "metadata": {},
   "outputs": [],
   "source": []
  },
  {
   "cell_type": "code",
   "execution_count": null,
   "metadata": {},
   "outputs": [],
   "source": []
  },
  {
   "cell_type": "code",
   "execution_count": 55,
   "metadata": {
    "colab": {
     "base_uri": "https://localhost:8080/"
    },
    "id": "LzznGtnNM1y1",
    "outputId": "bfc95ca5-51c3-43e4-8861-c2c956910317"
   },
   "outputs": [
    {
     "name": "stdout",
     "output_type": "stream",
     "text": [
      "Found 8300 images belonging to 1 classes.\n",
      "Found 1704 images belonging to 1 classes.\n"
     ]
    }
   ],
   "source": [
    "num_images = num_of_images(train_name)\n",
    "num_images_v=num_of_images(val_name)"
   ]
  },
  {
   "cell_type": "code",
   "execution_count": 58,
   "metadata": {
    "colab": {
     "base_uri": "https://localhost:8080/"
    },
    "id": "UxnT_Z6fQbHT",
    "outputId": "2824a7de-abca-4c04-e661-c28ff637cdf3"
   },
   "outputs": [
    {
     "name": "stdout",
     "output_type": "stream",
     "text": [
      "2075.0\n",
      "KerasTensor(type_spec=TensorSpec(shape=(None, 512, 512, 34), dtype=tf.float32, name=None), name='activation_68/Softmax:0', description=\"created by layer 'activation_68'\")\n",
      "Found 8300 images belonging to 1 classes.\n",
      "Found 8300 images belonging to 1 classes.\n",
      "(4, 512, 512, 3)\n"
     ]
    },
    {
     "ename": "ValueError",
     "evalue": "in user code:\n\n    c:\\Users\\cheth\\anaconda3\\envs\\tf\\lib\\site-packages\\keras\\engine\\training.py:853 train_function  *\n        return step_function(self, iterator)\n    C:\\Users\\cheth\\AppData\\Local\\Temp\\ipykernel_10108\\265189632.py:19 fscore  *\n        y_true1=y_true[i,:,:,:]\n    c:\\Users\\cheth\\anaconda3\\envs\\tf\\lib\\site-packages\\tensorflow\\python\\util\\dispatch.py:206 wrapper\n        return target(*args, **kwargs)\n    c:\\Users\\cheth\\anaconda3\\envs\\tf\\lib\\site-packages\\tensorflow\\python\\ops\\array_ops.py:1041 _slice_helper\n        return strided_slice(\n    c:\\Users\\cheth\\anaconda3\\envs\\tf\\lib\\site-packages\\tensorflow\\python\\util\\dispatch.py:206 wrapper\n        return target(*args, **kwargs)\n    c:\\Users\\cheth\\anaconda3\\envs\\tf\\lib\\site-packages\\tensorflow\\python\\ops\\array_ops.py:1214 strided_slice\n        op = gen_array_ops.strided_slice(\n    c:\\Users\\cheth\\anaconda3\\envs\\tf\\lib\\site-packages\\tensorflow\\python\\ops\\gen_array_ops.py:10537 strided_slice\n        _, _, _op, _outputs = _op_def_library._apply_op_helper(\n    c:\\Users\\cheth\\anaconda3\\envs\\tf\\lib\\site-packages\\tensorflow\\python\\framework\\op_def_library.py:748 _apply_op_helper\n        op = g._create_op_internal(op_type_name, inputs, dtypes=None,\n    c:\\Users\\cheth\\anaconda3\\envs\\tf\\lib\\site-packages\\tensorflow\\python\\framework\\func_graph.py:599 _create_op_internal\n        return super(FuncGraph, self)._create_op_internal(  # pylint: disable=protected-access\n    c:\\Users\\cheth\\anaconda3\\envs\\tf\\lib\\site-packages\\tensorflow\\python\\framework\\ops.py:3561 _create_op_internal\n        ret = Operation(\n    c:\\Users\\cheth\\anaconda3\\envs\\tf\\lib\\site-packages\\tensorflow\\python\\framework\\ops.py:2041 __init__\n        self._c_op = _create_c_op(self._graph, node_def, inputs,\n    c:\\Users\\cheth\\anaconda3\\envs\\tf\\lib\\site-packages\\tensorflow\\python\\framework\\ops.py:1883 _create_c_op\n        raise ValueError(str(e))\n\n    ValueError: Index out of range using input dim 1; input has only 1 dims for '{{node strided_slice_4}} = StridedSlice[Index=DT_INT32, T=DT_FLOAT, begin_mask=14, ellipsis_mask=0, end_mask=14, new_axis_mask=0, shrink_axis_mask=1](Round, strided_slice_4/stack, strided_slice_4/stack_1, strided_slice_4/stack_2)' with input shapes: [?], [4], [4], [4] and with computed input tensors: input[3] = <1 1 1 1>.\n",
     "output_type": "error",
     "traceback": [
      "\u001b[1;31m---------------------------------------------------------------------------\u001b[0m",
      "\u001b[1;31mValueError\u001b[0m                                Traceback (most recent call last)",
      "\u001b[1;32md:\\bac_clas\\trainmodel\\res_unet_plusplus_diceloss.ipynb Cell 11'\u001b[0m in \u001b[0;36m<cell line: 34>\u001b[1;34m()\u001b[0m\n\u001b[0;32m     <a href='vscode-notebook-cell:/d%3A/bac_clas/trainmodel/res_unet_plusplus_diceloss.ipynb#ch0000009?line=31'>32</a>\u001b[0m final_epoch \u001b[39m=\u001b[39m \u001b[39m1\u001b[39m\n\u001b[0;32m     <a href='vscode-notebook-cell:/d%3A/bac_clas/trainmodel/res_unet_plusplus_diceloss.ipynb#ch0000009?line=32'>33</a>\u001b[0m model\u001b[39m.\u001b[39mcompile(optimizer \u001b[39m=\u001b[39m opt, loss \u001b[39m=\u001b[39m loss_fn, metrics \u001b[39m=\u001b[39m[\u001b[39m'\u001b[39m\u001b[39maccuracy\u001b[39m\u001b[39m'\u001b[39m,fscore])\n\u001b[1;32m---> <a href='vscode-notebook-cell:/d%3A/bac_clas/trainmodel/res_unet_plusplus_diceloss.ipynb#ch0000009?line=33'>34</a>\u001b[0m model\u001b[39m.\u001b[39;49mfit(train, steps_per_epoch\u001b[39m=\u001b[39;49mbatch_steps,epochs\u001b[39m=\u001b[39;49mfinal_epoch, verbose\u001b[39m=\u001b[39;49m\u001b[39m1\u001b[39;49m, validation_data\u001b[39m=\u001b[39;49mval, validation_steps\u001b[39m=\u001b[39;49mbatch_steps,  callbacks\u001b[39m=\u001b[39;49m[checkpointer],shuffle\u001b[39m=\u001b[39;49m\u001b[39mTrue\u001b[39;49;00m, initial_epoch\u001b[39m=\u001b[39;49minitial_epoch)\n\u001b[0;32m     <a href='vscode-notebook-cell:/d%3A/bac_clas/trainmodel/res_unet_plusplus_diceloss.ipynb#ch0000009?line=34'>35</a>\u001b[0m model\u001b[39m.\u001b[39msave(\u001b[39mstr\u001b[39m(model_name_morph))\n\u001b[0;32m     <a href='vscode-notebook-cell:/d%3A/bac_clas/trainmodel/res_unet_plusplus_diceloss.ipynb#ch0000009?line=35'>36</a>\u001b[0m end \u001b[39m=\u001b[39m time\u001b[39m.\u001b[39mtime()\n",
      "File \u001b[1;32mc:\\Users\\cheth\\anaconda3\\envs\\tf\\lib\\site-packages\\keras\\engine\\training.py:1184\u001b[0m, in \u001b[0;36mModel.fit\u001b[1;34m(self, x, y, batch_size, epochs, verbose, callbacks, validation_split, validation_data, shuffle, class_weight, sample_weight, initial_epoch, steps_per_epoch, validation_steps, validation_batch_size, validation_freq, max_queue_size, workers, use_multiprocessing)\u001b[0m\n\u001b[0;32m   1177\u001b[0m \u001b[39mwith\u001b[39;00m tf\u001b[39m.\u001b[39mprofiler\u001b[39m.\u001b[39mexperimental\u001b[39m.\u001b[39mTrace(\n\u001b[0;32m   1178\u001b[0m     \u001b[39m'\u001b[39m\u001b[39mtrain\u001b[39m\u001b[39m'\u001b[39m,\n\u001b[0;32m   1179\u001b[0m     epoch_num\u001b[39m=\u001b[39mepoch,\n\u001b[0;32m   1180\u001b[0m     step_num\u001b[39m=\u001b[39mstep,\n\u001b[0;32m   1181\u001b[0m     batch_size\u001b[39m=\u001b[39mbatch_size,\n\u001b[0;32m   1182\u001b[0m     _r\u001b[39m=\u001b[39m\u001b[39m1\u001b[39m):\n\u001b[0;32m   1183\u001b[0m   callbacks\u001b[39m.\u001b[39mon_train_batch_begin(step)\n\u001b[1;32m-> 1184\u001b[0m   tmp_logs \u001b[39m=\u001b[39m \u001b[39mself\u001b[39;49m\u001b[39m.\u001b[39;49mtrain_function(iterator)\n\u001b[0;32m   1185\u001b[0m   \u001b[39mif\u001b[39;00m data_handler\u001b[39m.\u001b[39mshould_sync:\n\u001b[0;32m   1186\u001b[0m     context\u001b[39m.\u001b[39masync_wait()\n",
      "File \u001b[1;32mc:\\Users\\cheth\\anaconda3\\envs\\tf\\lib\\site-packages\\tensorflow\\python\\eager\\def_function.py:885\u001b[0m, in \u001b[0;36mFunction.__call__\u001b[1;34m(self, *args, **kwds)\u001b[0m\n\u001b[0;32m    882\u001b[0m compiler \u001b[39m=\u001b[39m \u001b[39m\"\u001b[39m\u001b[39mxla\u001b[39m\u001b[39m\"\u001b[39m \u001b[39mif\u001b[39;00m \u001b[39mself\u001b[39m\u001b[39m.\u001b[39m_jit_compile \u001b[39melse\u001b[39;00m \u001b[39m\"\u001b[39m\u001b[39mnonXla\u001b[39m\u001b[39m\"\u001b[39m\n\u001b[0;32m    884\u001b[0m \u001b[39mwith\u001b[39;00m OptionalXlaContext(\u001b[39mself\u001b[39m\u001b[39m.\u001b[39m_jit_compile):\n\u001b[1;32m--> 885\u001b[0m   result \u001b[39m=\u001b[39m \u001b[39mself\u001b[39m\u001b[39m.\u001b[39m_call(\u001b[39m*\u001b[39margs, \u001b[39m*\u001b[39m\u001b[39m*\u001b[39mkwds)\n\u001b[0;32m    887\u001b[0m new_tracing_count \u001b[39m=\u001b[39m \u001b[39mself\u001b[39m\u001b[39m.\u001b[39mexperimental_get_tracing_count()\n\u001b[0;32m    888\u001b[0m without_tracing \u001b[39m=\u001b[39m (tracing_count \u001b[39m==\u001b[39m new_tracing_count)\n",
      "File \u001b[1;32mc:\\Users\\cheth\\anaconda3\\envs\\tf\\lib\\site-packages\\tensorflow\\python\\eager\\def_function.py:933\u001b[0m, in \u001b[0;36mFunction._call\u001b[1;34m(self, *args, **kwds)\u001b[0m\n\u001b[0;32m    930\u001b[0m \u001b[39mtry\u001b[39;00m:\n\u001b[0;32m    931\u001b[0m   \u001b[39m# This is the first call of __call__, so we have to initialize.\u001b[39;00m\n\u001b[0;32m    932\u001b[0m   initializers \u001b[39m=\u001b[39m []\n\u001b[1;32m--> 933\u001b[0m   \u001b[39mself\u001b[39;49m\u001b[39m.\u001b[39;49m_initialize(args, kwds, add_initializers_to\u001b[39m=\u001b[39;49minitializers)\n\u001b[0;32m    934\u001b[0m \u001b[39mfinally\u001b[39;00m:\n\u001b[0;32m    935\u001b[0m   \u001b[39m# At this point we know that the initialization is complete (or less\u001b[39;00m\n\u001b[0;32m    936\u001b[0m   \u001b[39m# interestingly an exception was raised) so we no longer need a lock.\u001b[39;00m\n\u001b[0;32m    937\u001b[0m   \u001b[39mself\u001b[39m\u001b[39m.\u001b[39m_lock\u001b[39m.\u001b[39mrelease()\n",
      "File \u001b[1;32mc:\\Users\\cheth\\anaconda3\\envs\\tf\\lib\\site-packages\\tensorflow\\python\\eager\\def_function.py:759\u001b[0m, in \u001b[0;36mFunction._initialize\u001b[1;34m(self, args, kwds, add_initializers_to)\u001b[0m\n\u001b[0;32m    756\u001b[0m \u001b[39mself\u001b[39m\u001b[39m.\u001b[39m_lifted_initializer_graph \u001b[39m=\u001b[39m lifted_initializer_graph\n\u001b[0;32m    757\u001b[0m \u001b[39mself\u001b[39m\u001b[39m.\u001b[39m_graph_deleter \u001b[39m=\u001b[39m FunctionDeleter(\u001b[39mself\u001b[39m\u001b[39m.\u001b[39m_lifted_initializer_graph)\n\u001b[0;32m    758\u001b[0m \u001b[39mself\u001b[39m\u001b[39m.\u001b[39m_concrete_stateful_fn \u001b[39m=\u001b[39m (\n\u001b[1;32m--> 759\u001b[0m     \u001b[39mself\u001b[39m\u001b[39m.\u001b[39m_stateful_fn\u001b[39m.\u001b[39m_get_concrete_function_internal_garbage_collected(  \u001b[39m# pylint: disable=protected-access\u001b[39;00m\n\u001b[0;32m    760\u001b[0m         \u001b[39m*\u001b[39margs, \u001b[39m*\u001b[39m\u001b[39m*\u001b[39mkwds))\n\u001b[0;32m    762\u001b[0m \u001b[39mdef\u001b[39;00m \u001b[39minvalid_creator_scope\u001b[39m(\u001b[39m*\u001b[39munused_args, \u001b[39m*\u001b[39m\u001b[39m*\u001b[39munused_kwds):\n\u001b[0;32m    763\u001b[0m   \u001b[39m\"\"\"Disables variable creation.\"\"\"\u001b[39;00m\n",
      "File \u001b[1;32mc:\\Users\\cheth\\anaconda3\\envs\\tf\\lib\\site-packages\\tensorflow\\python\\eager\\function.py:3066\u001b[0m, in \u001b[0;36mFunction._get_concrete_function_internal_garbage_collected\u001b[1;34m(self, *args, **kwargs)\u001b[0m\n\u001b[0;32m   3064\u001b[0m   args, kwargs \u001b[39m=\u001b[39m \u001b[39mNone\u001b[39;00m, \u001b[39mNone\u001b[39;00m\n\u001b[0;32m   3065\u001b[0m \u001b[39mwith\u001b[39;00m \u001b[39mself\u001b[39m\u001b[39m.\u001b[39m_lock:\n\u001b[1;32m-> 3066\u001b[0m   graph_function, _ \u001b[39m=\u001b[39m \u001b[39mself\u001b[39;49m\u001b[39m.\u001b[39;49m_maybe_define_function(args, kwargs)\n\u001b[0;32m   3067\u001b[0m \u001b[39mreturn\u001b[39;00m graph_function\n",
      "File \u001b[1;32mc:\\Users\\cheth\\anaconda3\\envs\\tf\\lib\\site-packages\\tensorflow\\python\\eager\\function.py:3463\u001b[0m, in \u001b[0;36mFunction._maybe_define_function\u001b[1;34m(self, args, kwargs)\u001b[0m\n\u001b[0;32m   3459\u001b[0m   \u001b[39mreturn\u001b[39;00m \u001b[39mself\u001b[39m\u001b[39m.\u001b[39m_define_function_with_shape_relaxation(\n\u001b[0;32m   3460\u001b[0m       args, kwargs, flat_args, filtered_flat_args, cache_key_context)\n\u001b[0;32m   3462\u001b[0m \u001b[39mself\u001b[39m\u001b[39m.\u001b[39m_function_cache\u001b[39m.\u001b[39mmissed\u001b[39m.\u001b[39madd(call_context_key)\n\u001b[1;32m-> 3463\u001b[0m graph_function \u001b[39m=\u001b[39m \u001b[39mself\u001b[39;49m\u001b[39m.\u001b[39;49m_create_graph_function(args, kwargs)\n\u001b[0;32m   3464\u001b[0m \u001b[39mself\u001b[39m\u001b[39m.\u001b[39m_function_cache\u001b[39m.\u001b[39mprimary[cache_key] \u001b[39m=\u001b[39m graph_function\n\u001b[0;32m   3466\u001b[0m \u001b[39mreturn\u001b[39;00m graph_function, filtered_flat_args\n",
      "File \u001b[1;32mc:\\Users\\cheth\\anaconda3\\envs\\tf\\lib\\site-packages\\tensorflow\\python\\eager\\function.py:3298\u001b[0m, in \u001b[0;36mFunction._create_graph_function\u001b[1;34m(self, args, kwargs, override_flat_arg_shapes)\u001b[0m\n\u001b[0;32m   3293\u001b[0m missing_arg_names \u001b[39m=\u001b[39m [\n\u001b[0;32m   3294\u001b[0m     \u001b[39m\"\u001b[39m\u001b[39m%s\u001b[39;00m\u001b[39m_\u001b[39m\u001b[39m%d\u001b[39;00m\u001b[39m\"\u001b[39m \u001b[39m%\u001b[39m (arg, i) \u001b[39mfor\u001b[39;00m i, arg \u001b[39min\u001b[39;00m \u001b[39menumerate\u001b[39m(missing_arg_names)\n\u001b[0;32m   3295\u001b[0m ]\n\u001b[0;32m   3296\u001b[0m arg_names \u001b[39m=\u001b[39m base_arg_names \u001b[39m+\u001b[39m missing_arg_names\n\u001b[0;32m   3297\u001b[0m graph_function \u001b[39m=\u001b[39m ConcreteFunction(\n\u001b[1;32m-> 3298\u001b[0m     func_graph_module\u001b[39m.\u001b[39;49mfunc_graph_from_py_func(\n\u001b[0;32m   3299\u001b[0m         \u001b[39mself\u001b[39;49m\u001b[39m.\u001b[39;49m_name,\n\u001b[0;32m   3300\u001b[0m         \u001b[39mself\u001b[39;49m\u001b[39m.\u001b[39;49m_python_function,\n\u001b[0;32m   3301\u001b[0m         args,\n\u001b[0;32m   3302\u001b[0m         kwargs,\n\u001b[0;32m   3303\u001b[0m         \u001b[39mself\u001b[39;49m\u001b[39m.\u001b[39;49minput_signature,\n\u001b[0;32m   3304\u001b[0m         autograph\u001b[39m=\u001b[39;49m\u001b[39mself\u001b[39;49m\u001b[39m.\u001b[39;49m_autograph,\n\u001b[0;32m   3305\u001b[0m         autograph_options\u001b[39m=\u001b[39;49m\u001b[39mself\u001b[39;49m\u001b[39m.\u001b[39;49m_autograph_options,\n\u001b[0;32m   3306\u001b[0m         arg_names\u001b[39m=\u001b[39;49marg_names,\n\u001b[0;32m   3307\u001b[0m         override_flat_arg_shapes\u001b[39m=\u001b[39;49moverride_flat_arg_shapes,\n\u001b[0;32m   3308\u001b[0m         capture_by_value\u001b[39m=\u001b[39;49m\u001b[39mself\u001b[39;49m\u001b[39m.\u001b[39;49m_capture_by_value),\n\u001b[0;32m   3309\u001b[0m     \u001b[39mself\u001b[39m\u001b[39m.\u001b[39m_function_attributes,\n\u001b[0;32m   3310\u001b[0m     function_spec\u001b[39m=\u001b[39m\u001b[39mself\u001b[39m\u001b[39m.\u001b[39mfunction_spec,\n\u001b[0;32m   3311\u001b[0m     \u001b[39m# Tell the ConcreteFunction to clean up its graph once it goes out of\u001b[39;00m\n\u001b[0;32m   3312\u001b[0m     \u001b[39m# scope. This is not the default behavior since it gets used in some\u001b[39;00m\n\u001b[0;32m   3313\u001b[0m     \u001b[39m# places (like Keras) where the FuncGraph lives longer than the\u001b[39;00m\n\u001b[0;32m   3314\u001b[0m     \u001b[39m# ConcreteFunction.\u001b[39;00m\n\u001b[0;32m   3315\u001b[0m     shared_func_graph\u001b[39m=\u001b[39m\u001b[39mFalse\u001b[39;00m)\n\u001b[0;32m   3316\u001b[0m \u001b[39mreturn\u001b[39;00m graph_function\n",
      "File \u001b[1;32mc:\\Users\\cheth\\anaconda3\\envs\\tf\\lib\\site-packages\\tensorflow\\python\\framework\\func_graph.py:1007\u001b[0m, in \u001b[0;36mfunc_graph_from_py_func\u001b[1;34m(name, python_func, args, kwargs, signature, func_graph, autograph, autograph_options, add_control_dependencies, arg_names, op_return_value, collections, capture_by_value, override_flat_arg_shapes, acd_record_initial_resource_uses)\u001b[0m\n\u001b[0;32m   1004\u001b[0m \u001b[39melse\u001b[39;00m:\n\u001b[0;32m   1005\u001b[0m   _, original_func \u001b[39m=\u001b[39m tf_decorator\u001b[39m.\u001b[39munwrap(python_func)\n\u001b[1;32m-> 1007\u001b[0m func_outputs \u001b[39m=\u001b[39m python_func(\u001b[39m*\u001b[39mfunc_args, \u001b[39m*\u001b[39m\u001b[39m*\u001b[39mfunc_kwargs)\n\u001b[0;32m   1009\u001b[0m \u001b[39m# invariant: `func_outputs` contains only Tensors, CompositeTensors,\u001b[39;00m\n\u001b[0;32m   1010\u001b[0m \u001b[39m# TensorArrays and `None`s.\u001b[39;00m\n\u001b[0;32m   1011\u001b[0m func_outputs \u001b[39m=\u001b[39m nest\u001b[39m.\u001b[39mmap_structure(convert, func_outputs,\n\u001b[0;32m   1012\u001b[0m                                   expand_composites\u001b[39m=\u001b[39m\u001b[39mTrue\u001b[39;00m)\n",
      "File \u001b[1;32mc:\\Users\\cheth\\anaconda3\\envs\\tf\\lib\\site-packages\\tensorflow\\python\\eager\\def_function.py:668\u001b[0m, in \u001b[0;36mFunction._defun_with_scope.<locals>.wrapped_fn\u001b[1;34m(*args, **kwds)\u001b[0m\n\u001b[0;32m    664\u001b[0m \u001b[39mwith\u001b[39;00m default_graph\u001b[39m.\u001b[39m_variable_creator_scope(scope, priority\u001b[39m=\u001b[39m\u001b[39m50\u001b[39m):  \u001b[39m# pylint: disable=protected-access\u001b[39;00m\n\u001b[0;32m    665\u001b[0m   \u001b[39m# __wrapped__ allows AutoGraph to swap in a converted function. We give\u001b[39;00m\n\u001b[0;32m    666\u001b[0m   \u001b[39m# the function a weak reference to itself to avoid a reference cycle.\u001b[39;00m\n\u001b[0;32m    667\u001b[0m   \u001b[39mwith\u001b[39;00m OptionalXlaContext(compile_with_xla):\n\u001b[1;32m--> 668\u001b[0m     out \u001b[39m=\u001b[39m weak_wrapped_fn()\u001b[39m.\u001b[39m__wrapped__(\u001b[39m*\u001b[39margs, \u001b[39m*\u001b[39m\u001b[39m*\u001b[39mkwds)\n\u001b[0;32m    669\u001b[0m   \u001b[39mreturn\u001b[39;00m out\n",
      "File \u001b[1;32mc:\\Users\\cheth\\anaconda3\\envs\\tf\\lib\\site-packages\\tensorflow\\python\\framework\\func_graph.py:994\u001b[0m, in \u001b[0;36mfunc_graph_from_py_func.<locals>.wrapper\u001b[1;34m(*args, **kwargs)\u001b[0m\n\u001b[0;32m    992\u001b[0m \u001b[39mexcept\u001b[39;00m \u001b[39mException\u001b[39;00m \u001b[39mas\u001b[39;00m e:  \u001b[39m# pylint:disable=broad-except\u001b[39;00m\n\u001b[0;32m    993\u001b[0m   \u001b[39mif\u001b[39;00m \u001b[39mhasattr\u001b[39m(e, \u001b[39m\"\u001b[39m\u001b[39mag_error_metadata\u001b[39m\u001b[39m\"\u001b[39m):\n\u001b[1;32m--> 994\u001b[0m     \u001b[39mraise\u001b[39;00m e\u001b[39m.\u001b[39mag_error_metadata\u001b[39m.\u001b[39mto_exception(e)\n\u001b[0;32m    995\u001b[0m   \u001b[39melse\u001b[39;00m:\n\u001b[0;32m    996\u001b[0m     \u001b[39mraise\u001b[39;00m\n",
      "\u001b[1;31mValueError\u001b[0m: in user code:\n\n    c:\\Users\\cheth\\anaconda3\\envs\\tf\\lib\\site-packages\\keras\\engine\\training.py:853 train_function  *\n        return step_function(self, iterator)\n    C:\\Users\\cheth\\AppData\\Local\\Temp\\ipykernel_10108\\265189632.py:19 fscore  *\n        y_true1=y_true[i,:,:,:]\n    c:\\Users\\cheth\\anaconda3\\envs\\tf\\lib\\site-packages\\tensorflow\\python\\util\\dispatch.py:206 wrapper\n        return target(*args, **kwargs)\n    c:\\Users\\cheth\\anaconda3\\envs\\tf\\lib\\site-packages\\tensorflow\\python\\ops\\array_ops.py:1041 _slice_helper\n        return strided_slice(\n    c:\\Users\\cheth\\anaconda3\\envs\\tf\\lib\\site-packages\\tensorflow\\python\\util\\dispatch.py:206 wrapper\n        return target(*args, **kwargs)\n    c:\\Users\\cheth\\anaconda3\\envs\\tf\\lib\\site-packages\\tensorflow\\python\\ops\\array_ops.py:1214 strided_slice\n        op = gen_array_ops.strided_slice(\n    c:\\Users\\cheth\\anaconda3\\envs\\tf\\lib\\site-packages\\tensorflow\\python\\ops\\gen_array_ops.py:10537 strided_slice\n        _, _, _op, _outputs = _op_def_library._apply_op_helper(\n    c:\\Users\\cheth\\anaconda3\\envs\\tf\\lib\\site-packages\\tensorflow\\python\\framework\\op_def_library.py:748 _apply_op_helper\n        op = g._create_op_internal(op_type_name, inputs, dtypes=None,\n    c:\\Users\\cheth\\anaconda3\\envs\\tf\\lib\\site-packages\\tensorflow\\python\\framework\\func_graph.py:599 _create_op_internal\n        return super(FuncGraph, self)._create_op_internal(  # pylint: disable=protected-access\n    c:\\Users\\cheth\\anaconda3\\envs\\tf\\lib\\site-packages\\tensorflow\\python\\framework\\ops.py:3561 _create_op_internal\n        ret = Operation(\n    c:\\Users\\cheth\\anaconda3\\envs\\tf\\lib\\site-packages\\tensorflow\\python\\framework\\ops.py:2041 __init__\n        self._c_op = _create_c_op(self._graph, node_def, inputs,\n    c:\\Users\\cheth\\anaconda3\\envs\\tf\\lib\\site-packages\\tensorflow\\python\\framework\\ops.py:1883 _create_c_op\n        raise ValueError(str(e))\n\n    ValueError: Index out of range using input dim 1; input has only 1 dims for '{{node strided_slice_4}} = StridedSlice[Index=DT_INT32, T=DT_FLOAT, begin_mask=14, ellipsis_mask=0, end_mask=14, new_axis_mask=0, shrink_axis_mask=1](Round, strided_slice_4/stack, strided_slice_4/stack_1, strided_slice_4/stack_2)' with input shapes: [?], [4], [4], [4] and with computed input tensors: input[3] = <1 1 1 1>.\n"
     ]
    }
   ],
   "source": [
    "train = dataGenerator(batch_size,train_name,data_gen_train,size)\n",
    "\n",
    "val = dataGeneratorv(batch_size,val_name,size)\n",
    "\n",
    "loss_fn = 'categorical_crossentropy'\n",
    "batch_steps = np.ceil(num_images / batch_size)\n",
    "print(batch_steps)\n",
    "rms = tf.keras.optimizers.RMSprop(learning_rate=1e-5)\n",
    "opt = rms\n",
    "\n",
    "if os.path.isdir(weights_folder) is not True:\n",
    "    os.makedirs(weights_folder)\n",
    "\n",
    "\n",
    "checkpointer = ModelCheckpoint(filepath='%s/weights.bac.{epoch:03d}_resunetpp.hdf5'%weights_folder,save_weights_only= True,save_best_only=True,monitor='val_loss',mode='min')\n",
    "start = time.time()\n",
    "checkpoint_path = str(model_name_morph)\n",
    "checkpoint = False\n",
    "\n",
    "if checkpoint:\n",
    "    arch = ResUnetPlusPlus(input_size=size,no_classes=34)\n",
    "    model = arch.build_model()\n",
    "    #model = load_model(checkpoint_path, custom_objects={'fscore': fscore,'loss_fn':loss_fn})\n",
    "    initial_epoch = 15\n",
    "else:\n",
    "    arch = ResUnetPlusPlus(input_size=size,no_classes=34)\n",
    "\n",
    "    model = arch.build_model()\n",
    "    # model.load_weights(\"%s/weights.bac.018_resunetpp.hdf5\"%str(weights_folder)) # To continue from a particular epoch\n",
    "    initial_epoch = 0\n",
    "\n",
    "final_epoch = 1\n",
    "model.compile(optimizer = opt, loss = loss_fn, metrics =['accuracy',fscore])\n",
    "model.fit(train, steps_per_epoch=batch_steps,epochs=final_epoch, verbose=1, validation_data=val, validation_steps=batch_steps,  callbacks=[checkpointer],shuffle=True, initial_epoch=initial_epoch)\n",
    "model.save(str(model_name_morph))\n",
    "end = time.time()\n",
    "print(f\"time taken for training {final_epoch - initial_epoch} is {end - start} seconds\")\n"
   ]
  },
  {
   "cell_type": "code",
   "execution_count": null,
   "metadata": {},
   "outputs": [],
   "source": [
    "\n",
    "l=os.listdir(train_name/'masks')\n",
    "l.sort()\n",
    "for i in l:\n",
    "    img=cv.imread(os.path.join(train_name/'masks',i))\n",
    "    if len(np.unique(img)) > 5:\n",
    "        print('problem',i,np.unique(img))\n",
    "\n"
   ]
  },
  {
   "cell_type": "code",
   "execution_count": null,
   "metadata": {},
   "outputs": [],
   "source": [
    "train = dataGenerator(batch_size,train_name,data_gen_train,size)\n",
    "# x,y=next(train)\n",
    "# print(y.shape)\n",
    "# y=y.reshape((y.shape[0]*y.shape[1]*y.shape[2]),y.shape[3])\n",
    "# print(np.unique(y,axis=0))\n",
    "j=0\n",
    "for i in train:\n",
    "\n",
    "#     if j>-1:\n",
    "#         print(i[1][1][100][100])\n",
    "#         print(np.unique(i[1][1].reshape(512*512,34),axis=0,return_counts=True))\n",
    "\n",
    "#     if j==8:\n",
    "#             break\n",
    "#     j=j+1\n",
    "      for a in range(4):\n",
    "        for b in range(512):\n",
    "            for c in range(512):\n",
    "               if  np.sum((i[1][a,b,c]))==0:\n",
    "                   print(i[1][a,b,c])\n",
    "                   print('problem',a,b,c)\n",
    "   \n",
    "      j=j+1"
   ]
  },
  {
   "cell_type": "code",
   "execution_count": null,
   "metadata": {},
   "outputs": [],
   "source": [
    "train = dataGenerator(batch_size,train_name,data_gen_train,size)\n",
    "#train = dataGeneratorv(batch_size,train_name,size)\n",
    "for i in train:\n",
    "    print(i[1].shape)\n",
    "    break"
   ]
  },
  {
   "cell_type": "code",
   "execution_count": null,
   "metadata": {},
   "outputs": [],
   "source": [
    "for x,y in train:\n",
    "    y=y.reshape((y.shape[0]*y.shape[1]*y.shape[2]),y.shape[3])\n",
    "    if len(np.unique(y,axis=0))>2:\n",
    "        print('problem')\n"
   ]
  },
  {
   "cell_type": "code",
   "execution_count": null,
   "metadata": {},
   "outputs": [],
   "source": [
    "\n",
    "im=os.listdir(train_name/'images')\n",
    "p=train_name/'masks'\n",
    "mask=os.listdir(train_name/'masks')\n",
    "\n",
    "# im.sort()\n",
    "# mask.sort()\n",
    "mask=[i[:-7]+'.tif' for i in mask]\n",
    "# mask.sort()\n",
    "print(mask[:10])\n",
    "im[:10]\n",
    "\n",
    "\n"
   ]
  },
  {
   "cell_type": "code",
   "execution_count": null,
   "metadata": {},
   "outputs": [],
   "source": [
    "import os \n",
    "from pathlib import Path\n",
    "path = os.path.dirname(os.getcwd())\n",
    "path = Path(path)\n",
    "magnification = \"100x\"\n",
    "\n",
    "val_name = path/\"data/validationcr\"\n",
    "train_name = path/\"data/traincr/\"\n",
    "csv_name = path/\"modeloutputs/results/resUnetpp_weighted_cce_loss_DiBaS_dataset_both_gp_gn1.csv\"\n",
    "weights_folder =path/\"modeloutputs/weights/weights_resUnetpp_weighted_cce_loss_DiBaS_dataset_both_gp_gn\"\n",
    "model_name_morph = path/\"modeloutputs/modelh5\"\n",
    "\n",
    "p=val_name/'masks'\n",
    "mask=os.listdir(p)\n",
    "\n",
    "for i in mask:\n",
    "    os.rename(p/i,p/('mask_'+i[:-7]+'.tif'))\n"
   ]
  }
 ],
 "metadata": {
  "accelerator": "GPU",
  "colab": {
   "collapsed_sections": [],
   "machine_shape": "hm",
   "name": "res_unet_plusplus_diceloss.ipynb",
   "provenance": []
  },
  "kernelspec": {
   "display_name": "Python 3.9.12 ('tf')",
   "language": "python",
   "name": "python3"
  },
  "language_info": {
   "codemirror_mode": {
    "name": "ipython",
    "version": 3
   },
   "file_extension": ".py",
   "mimetype": "text/x-python",
   "name": "python",
   "nbconvert_exporter": "python",
   "pygments_lexer": "ipython3",
   "version": "3.9.12"
  },
  "vscode": {
   "interpreter": {
    "hash": "0998d012f4591c2b7c5c0ed9e85c73c65ee1cccf2f926f176252a810f35d666b"
   }
  }
 },
 "nbformat": 4,
 "nbformat_minor": 1
}
