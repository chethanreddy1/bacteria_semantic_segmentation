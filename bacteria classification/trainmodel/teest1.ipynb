{
 "cells": [
  {
   "cell_type": "code",
   "execution_count": 2,
   "metadata": {},
   "outputs": [
    {
     "name": "stdout",
     "output_type": "stream",
     "text": [
      "[[192, 192, 192], [0, 0, 255], [0, 0, 128], [0, 255, 0], [0, 255, 255], [0, 255, 128], [0, 128, 0], [0, 128, 255], [0, 128, 128], [255, 0, 0], [255, 0, 255], [255, 0, 128], [255, 255, 0], [255, 128, 0], [255, 128, 255], [255, 128, 128], [128, 0, 0], [128, 0, 255], [128, 0, 128], [128, 255, 0], [128, 255, 255], [128, 255, 128], [128, 128, 0], [128, 128, 255], [128, 128, 128], [64, 64, 64], [64, 64, 191], [64, 191, 64], [64, 191, 191], [191, 64, 64], [191, 64, 191], [191, 191, 64], [0, 0, 0], [255, 255, 255]]\n",
      "34\n"
     ]
    }
   ],
   "source": [
    "from mydatabinary import *\n",
    "import cv2\n",
    "from pathlib import Path\n",
    "# img = cv2.imread('D:\\diabs\\Bacteroides.fragilis\\masked\\Bacteroides.fragilis_0003_gt.tif')[0:512,0:512,:]\n",
    "# img = cv2.cvtColor(img,cv2.COLOR_BGR2RGB)\n",
    "# i=np.stack((img,img,img,img))\n",
    "# print(img.shape)\n",
    "# print(np.unique((img).reshape((-1,3)),axis =0))\n",
    "# np.unique(one_hot(img).reshape((-1,34)),axis =0)"
   ]
  },
  {
   "cell_type": "code",
   "execution_count": 3,
   "metadata": {},
   "outputs": [],
   "source": [
    "def dataGenerator1(path1,seed=1):\n",
    "    size = 512\n",
    "    image_datagen = ImageDataGenerator()\n",
    "    image_generator = image_datagen.flow_from_directory(\n",
    "        path1,\n",
    "        target_size=(size, size),\n",
    "        classes = [\"images\"],\n",
    "        class_mode = None,\n",
    "        batch_size = 4,\n",
    "        save_to_dir='check/images',\n",
    "        save_prefix='images',\n",
    "        seed = seed)\n",
    "    mask_generator = image_datagen.flow_from_directory(\n",
    "        path1,\n",
    "        target_size=(size, size),\n",
    "        classes = [\"masks\"],\n",
    "        class_mode = None,\n",
    "        batch_size = 4,\n",
    "        save_to_dir='check/mask',\n",
    "        save_prefix='mask',\n",
    "\n",
    "        seed = seed)\n",
    "    data_generator = zip(image_generator, mask_generator)\n",
    "    for (image, mask) in data_generator:\n",
    "        image, mask = adjustData(image,mask)\n",
    "        train = (image, mask)\n",
    "        #print(train[0].shape)\n",
    "        yield train\n",
    "path = os.path.dirname(os.getcwd())\n",
    "path = Path(path)\n",
    "magnification = \"100x\"\n",
    "\n",
    "val_name = path/\"data/validationcr\"\n",
    "train_name = path/\"data/traincr\"\n",
    "train_name = path/\"data/traincr\""
   ]
  },
  {
   "cell_type": "code",
   "execution_count": 25,
   "metadata": {},
   "outputs": [
    {
     "name": "stdout",
     "output_type": "stream",
     "text": [
      "[[1. 2. 3.]\n",
      " [1. 2. 3.]\n",
      " [1. 2. 3.]\n",
      " [1. 2. 3.]]\n"
     ]
    },
    {
     "data": {
      "text/plain": [
       "array([6., 6., 6., 6.])"
      ]
     },
     "execution_count": 25,
     "metadata": {},
     "output_type": "execute_result"
    }
   ],
   "source": [
    "\n",
    "# train = dataGenerator1(train_name)\n",
    "import numpy as np\n",
    "arr2=np.ones((4,3))\n",
    "arr3=np.array([1,2,3])\n",
    "print(np.multiply(arr2,arr3))\n",
    "arr2*arr3\n",
    "np.dot(arr2,arr3)\n"
   ]
  },
  {
   "cell_type": "code",
   "execution_count": 5,
   "metadata": {},
   "outputs": [
    {
     "name": "stdout",
     "output_type": "stream",
     "text": [
      "Found 8300 images belonging to 1 classes.\n",
      "Found 8300 images belonging to 1 classes.\n",
      "(4, 512, 512, 3)\n",
      "(4, 512, 512, 3)\n",
      "(4, 512, 512, 3)\n",
      "(4, 512, 512, 3)\n"
     ]
    },
    {
     "ename": "KeyboardInterrupt",
     "evalue": "",
     "output_type": "error",
     "traceback": [
      "\u001b[1;31m---------------------------------------------------------------------------\u001b[0m",
      "\u001b[1;31mAttributeError\u001b[0m                            Traceback (most recent call last)",
      "File \u001b[1;32mc:\\Users\\cheth\\anaconda3\\envs\\tf\\lib\\site-packages\\PIL\\ImageFile.py:495\u001b[0m, in \u001b[0;36m_save\u001b[1;34m(im, fp, tile, bufsize)\u001b[0m\n\u001b[0;32m    494\u001b[0m \u001b[39mtry\u001b[39;00m:\n\u001b[1;32m--> 495\u001b[0m     fh \u001b[39m=\u001b[39m fp\u001b[39m.\u001b[39;49mfileno()\n\u001b[0;32m    496\u001b[0m     fp\u001b[39m.\u001b[39mflush()\n",
      "\u001b[1;31mAttributeError\u001b[0m: '_idat' object has no attribute 'fileno'",
      "\nDuring handling of the above exception, another exception occurred:\n",
      "\u001b[1;31mKeyboardInterrupt\u001b[0m                         Traceback (most recent call last)",
      "\u001b[1;32md:\\bac_clas\\trainmodel\\teest1.ipynb Cell 4'\u001b[0m in \u001b[0;36m<cell line: 1>\u001b[1;34m()\u001b[0m\n\u001b[1;32m----> <a href='vscode-notebook-cell:/d%3A/bac_clas/trainmodel/teest1.ipynb#ch0000003?line=0'>1</a>\u001b[0m \u001b[39mfor\u001b[39;00m i \u001b[39min\u001b[39;00m train:\n\u001b[0;32m      <a href='vscode-notebook-cell:/d%3A/bac_clas/trainmodel/teest1.ipynb#ch0000003?line=1'>2</a>\u001b[0m     \u001b[39mprint\u001b[39m(i[\u001b[39m0\u001b[39m]\u001b[39m.\u001b[39mshape)\n",
      "\u001b[1;32md:\\bac_clas\\trainmodel\\teest1.ipynb Cell 2'\u001b[0m in \u001b[0;36mdataGenerator1\u001b[1;34m(path1, seed)\u001b[0m\n\u001b[0;32m     <a href='vscode-notebook-cell:/d%3A/bac_clas/trainmodel/teest1.ipynb#ch0000001?line=12'>13</a>\u001b[0m mask_generator \u001b[39m=\u001b[39m image_datagen\u001b[39m.\u001b[39mflow_from_directory(\n\u001b[0;32m     <a href='vscode-notebook-cell:/d%3A/bac_clas/trainmodel/teest1.ipynb#ch0000001?line=13'>14</a>\u001b[0m     path1,\n\u001b[0;32m     <a href='vscode-notebook-cell:/d%3A/bac_clas/trainmodel/teest1.ipynb#ch0000001?line=14'>15</a>\u001b[0m     target_size\u001b[39m=\u001b[39m(size, size),\n\u001b[1;32m   (...)\u001b[0m\n\u001b[0;32m     <a href='vscode-notebook-cell:/d%3A/bac_clas/trainmodel/teest1.ipynb#ch0000001?line=20'>21</a>\u001b[0m \n\u001b[0;32m     <a href='vscode-notebook-cell:/d%3A/bac_clas/trainmodel/teest1.ipynb#ch0000001?line=21'>22</a>\u001b[0m     seed \u001b[39m=\u001b[39m seed)\n\u001b[0;32m     <a href='vscode-notebook-cell:/d%3A/bac_clas/trainmodel/teest1.ipynb#ch0000001?line=22'>23</a>\u001b[0m data_generator \u001b[39m=\u001b[39m \u001b[39mzip\u001b[39m(image_generator, mask_generator)\n\u001b[1;32m---> <a href='vscode-notebook-cell:/d%3A/bac_clas/trainmodel/teest1.ipynb#ch0000001?line=23'>24</a>\u001b[0m \u001b[39mfor\u001b[39;00m (image, mask) \u001b[39min\u001b[39;00m data_generator:\n\u001b[0;32m     <a href='vscode-notebook-cell:/d%3A/bac_clas/trainmodel/teest1.ipynb#ch0000001?line=24'>25</a>\u001b[0m     image, mask \u001b[39m=\u001b[39m adjustData(image,mask)\n\u001b[0;32m     <a href='vscode-notebook-cell:/d%3A/bac_clas/trainmodel/teest1.ipynb#ch0000001?line=25'>26</a>\u001b[0m     train \u001b[39m=\u001b[39m (image, mask)\n",
      "File \u001b[1;32mc:\\Users\\cheth\\anaconda3\\envs\\tf\\lib\\site-packages\\keras_preprocessing\\image\\iterator.py:104\u001b[0m, in \u001b[0;36mIterator.__next__\u001b[1;34m(self, *args, **kwargs)\u001b[0m\n\u001b[0;32m    103\u001b[0m \u001b[39mdef\u001b[39;00m \u001b[39m__next__\u001b[39m(\u001b[39mself\u001b[39m, \u001b[39m*\u001b[39margs, \u001b[39m*\u001b[39m\u001b[39m*\u001b[39mkwargs):\n\u001b[1;32m--> 104\u001b[0m     \u001b[39mreturn\u001b[39;00m \u001b[39mself\u001b[39m\u001b[39m.\u001b[39mnext(\u001b[39m*\u001b[39margs, \u001b[39m*\u001b[39m\u001b[39m*\u001b[39mkwargs)\n",
      "File \u001b[1;32mc:\\Users\\cheth\\anaconda3\\envs\\tf\\lib\\site-packages\\keras_preprocessing\\image\\iterator.py:116\u001b[0m, in \u001b[0;36mIterator.next\u001b[1;34m(self)\u001b[0m\n\u001b[0;32m    113\u001b[0m     index_array \u001b[39m=\u001b[39m \u001b[39mnext\u001b[39m(\u001b[39mself\u001b[39m\u001b[39m.\u001b[39mindex_generator)\n\u001b[0;32m    114\u001b[0m \u001b[39m# The transformation of images is not under thread lock\u001b[39;00m\n\u001b[0;32m    115\u001b[0m \u001b[39m# so it can be done in parallel\u001b[39;00m\n\u001b[1;32m--> 116\u001b[0m \u001b[39mreturn\u001b[39;00m \u001b[39mself\u001b[39;49m\u001b[39m.\u001b[39;49m_get_batches_of_transformed_samples(index_array)\n",
      "File \u001b[1;32mc:\\Users\\cheth\\anaconda3\\envs\\tf\\lib\\site-packages\\keras_preprocessing\\image\\iterator.py:250\u001b[0m, in \u001b[0;36mBatchFromFilesMixin._get_batches_of_transformed_samples\u001b[1;34m(self, index_array)\u001b[0m\n\u001b[0;32m    244\u001b[0m         img \u001b[39m=\u001b[39m array_to_img(batch_x[i], \u001b[39mself\u001b[39m\u001b[39m.\u001b[39mdata_format, scale\u001b[39m=\u001b[39m\u001b[39mTrue\u001b[39;00m)\n\u001b[0;32m    245\u001b[0m         fname \u001b[39m=\u001b[39m \u001b[39m'\u001b[39m\u001b[39m{prefix}\u001b[39;00m\u001b[39m_\u001b[39m\u001b[39m{index}\u001b[39;00m\u001b[39m_\u001b[39m\u001b[39m{hash}\u001b[39;00m\u001b[39m.\u001b[39m\u001b[39m{format}\u001b[39;00m\u001b[39m'\u001b[39m\u001b[39m.\u001b[39mformat(\n\u001b[0;32m    246\u001b[0m             prefix\u001b[39m=\u001b[39m\u001b[39mself\u001b[39m\u001b[39m.\u001b[39msave_prefix,\n\u001b[0;32m    247\u001b[0m             index\u001b[39m=\u001b[39mj,\n\u001b[0;32m    248\u001b[0m             \u001b[39mhash\u001b[39m\u001b[39m=\u001b[39mnp\u001b[39m.\u001b[39mrandom\u001b[39m.\u001b[39mrandint(\u001b[39m1e7\u001b[39m),\n\u001b[0;32m    249\u001b[0m             \u001b[39mformat\u001b[39m\u001b[39m=\u001b[39m\u001b[39mself\u001b[39m\u001b[39m.\u001b[39msave_format)\n\u001b[1;32m--> 250\u001b[0m         img\u001b[39m.\u001b[39;49msave(os\u001b[39m.\u001b[39;49mpath\u001b[39m.\u001b[39;49mjoin(\u001b[39mself\u001b[39;49m\u001b[39m.\u001b[39;49msave_to_dir, fname))\n\u001b[0;32m    251\u001b[0m \u001b[39m# build batch of labels\u001b[39;00m\n\u001b[0;32m    252\u001b[0m \u001b[39mif\u001b[39;00m \u001b[39mself\u001b[39m\u001b[39m.\u001b[39mclass_mode \u001b[39m==\u001b[39m \u001b[39m'\u001b[39m\u001b[39minput\u001b[39m\u001b[39m'\u001b[39m:\n",
      "File \u001b[1;32mc:\\Users\\cheth\\anaconda3\\envs\\tf\\lib\\site-packages\\PIL\\Image.py:2212\u001b[0m, in \u001b[0;36mImage.save\u001b[1;34m(self, fp, format, **params)\u001b[0m\n\u001b[0;32m   2209\u001b[0m         fp \u001b[39m=\u001b[39m builtins\u001b[39m.\u001b[39mopen(filename, \u001b[39m\"\u001b[39m\u001b[39mw+b\u001b[39m\u001b[39m\"\u001b[39m)\n\u001b[0;32m   2211\u001b[0m \u001b[39mtry\u001b[39;00m:\n\u001b[1;32m-> 2212\u001b[0m     save_handler(\u001b[39mself\u001b[39;49m, fp, filename)\n\u001b[0;32m   2213\u001b[0m \u001b[39mfinally\u001b[39;00m:\n\u001b[0;32m   2214\u001b[0m     \u001b[39m# do what we can to clean up\u001b[39;00m\n\u001b[0;32m   2215\u001b[0m     \u001b[39mif\u001b[39;00m open_fp:\n",
      "File \u001b[1;32mc:\\Users\\cheth\\anaconda3\\envs\\tf\\lib\\site-packages\\PIL\\PngImagePlugin.py:1348\u001b[0m, in \u001b[0;36m_save\u001b[1;34m(im, fp, filename, chunk, save_all)\u001b[0m\n\u001b[0;32m   1346\u001b[0m     _write_multiple_frames(im, fp, chunk, rawmode)\n\u001b[0;32m   1347\u001b[0m \u001b[39melse\u001b[39;00m:\n\u001b[1;32m-> 1348\u001b[0m     ImageFile\u001b[39m.\u001b[39;49m_save(im, _idat(fp, chunk), [(\u001b[39m\"\u001b[39;49m\u001b[39mzip\u001b[39;49m\u001b[39m\"\u001b[39;49m, (\u001b[39m0\u001b[39;49m, \u001b[39m0\u001b[39;49m) \u001b[39m+\u001b[39;49m im\u001b[39m.\u001b[39;49msize, \u001b[39m0\u001b[39;49m, rawmode)])\n\u001b[0;32m   1350\u001b[0m \u001b[39mif\u001b[39;00m info:\n\u001b[0;32m   1351\u001b[0m     \u001b[39mfor\u001b[39;00m info_chunk \u001b[39min\u001b[39;00m info\u001b[39m.\u001b[39mchunks:\n",
      "File \u001b[1;32mc:\\Users\\cheth\\anaconda3\\envs\\tf\\lib\\site-packages\\PIL\\ImageFile.py:509\u001b[0m, in \u001b[0;36m_save\u001b[1;34m(im, fp, tile, bufsize)\u001b[0m\n\u001b[0;32m    507\u001b[0m \u001b[39melse\u001b[39;00m:\n\u001b[0;32m    508\u001b[0m     \u001b[39mwhile\u001b[39;00m \u001b[39mTrue\u001b[39;00m:\n\u001b[1;32m--> 509\u001b[0m         l, s, d \u001b[39m=\u001b[39m e\u001b[39m.\u001b[39;49mencode(bufsize)\n\u001b[0;32m    510\u001b[0m         fp\u001b[39m.\u001b[39mwrite(d)\n\u001b[0;32m    511\u001b[0m         \u001b[39mif\u001b[39;00m s:\n",
      "\u001b[1;31mKeyboardInterrupt\u001b[0m: "
     ]
    }
   ],
   "source": [
    "for i in train:\n",
    "    print(i[0].shape)"
   ]
  }
 ],
 "metadata": {
  "kernelspec": {
   "display_name": "Python 3.9.12 ('tf')",
   "language": "python",
   "name": "python3"
  },
  "language_info": {
   "codemirror_mode": {
    "name": "ipython",
    "version": 3
   },
   "file_extension": ".py",
   "mimetype": "text/x-python",
   "name": "python",
   "nbconvert_exporter": "python",
   "pygments_lexer": "ipython3",
   "version": "3.9.12"
  },
  "orig_nbformat": 4,
  "vscode": {
   "interpreter": {
    "hash": "0998d012f4591c2b7c5c0ed9e85c73c65ee1cccf2f926f176252a810f35d666b"
   }
  }
 },
 "nbformat": 4,
 "nbformat_minor": 2
}
