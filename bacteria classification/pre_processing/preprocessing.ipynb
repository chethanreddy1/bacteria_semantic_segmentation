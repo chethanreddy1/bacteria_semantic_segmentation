{
 "cells": [
  {
   "cell_type": "markdown",
   "id": "dc724f23",
   "metadata": {},
   "source": [
    "importing all required moduels and functions"
   ]
  },
  {
   "cell_type": "code",
   "execution_count": null,
   "id": "a08ccdf2",
   "metadata": {},
   "outputs": [
    {
     "ename": "",
     "evalue": "",
     "output_type": "error",
     "traceback": [
      "\u001b[1;31mRunning cells with 'Python 3.10.5 ('base')' requires ipykernel package.\n",
      "Run the following command to install 'ipykernel' into the Python environment. \n",
      "Command: 'conda install -n base ipykernel --update-deps --force-reinstall'"
     ]
    }
   ],
   "source": [
    "import os\n",
    "import cv2\n",
    "import cv2 as cv\n",
    "import numpy as np\n",
    "import pandas as pd\n",
    "import matplotlib.pyplot as plt\n",
    "# from sklearn.mixture import GaussianMixture\n",
    "# from sklearn.cluster import KMeans\n",
    "# from sklearn.cluster import MeanShift\n",
    "from functionspre import *"
   ]
  },
  {
   "cell_type": "markdown",
   "id": "b8162495",
   "metadata": {},
   "source": [
    "Initialising required paths"
   ]
  },
  {
   "cell_type": "code",
   "execution_count": null,
   "id": "853a9222",
   "metadata": {},
   "outputs": [],
   "source": [
    "#parent directory path\n",
    "dirpath = os.path.dirname(os.getcwd())\n",
    "#diabs path\n",
    "data_path=os.path.join(dirpath,'data','diabs')\n",
    "#bacteria info csv file path\n",
    "bacinfopath=os.path.join(dirpath,'bacinfo.csv')"
   ]
  },
  {
   "cell_type": "code",
   "execution_count": null,
   "id": "3ec76933",
   "metadata": {},
   "outputs": [],
   "source": [
    "#bacinfo dataframe\n",
    "bacinfo=pd.read_csv(bacinfopath)"
   ]
  },
  {
   "cell_type": "markdown",
   "id": "026db51f",
   "metadata": {},
   "source": [
    "Generating masks"
   ]
  },
  {
   "cell_type": "code",
   "execution_count": null,
   "id": "8c04f5d8",
   "metadata": {},
   "outputs": [],
   "source": [
    "bacs=os.listdir(data_path)\n",
    "bacs.sort()\n",
    "for bac in bacs:\n",
    "    try:\n",
    "       os.mkdir(os.path.join(data_path,bac,'masked'))\n",
    "    except:\n",
    "       pass\n",
    "    imgspath=os.path.join(data_path,bac,'images')\n",
    "    imgs=os.listdir(imgspath)\n",
    "    imgs.sort()\n",
    "    index=bacs.index(bac)\n",
    "    for image in imgs:\n",
    "        imgpath=os.path.join(imgspath,image)\n",
    "        img=cv2.imread(imgpath)\n",
    "        if bac!='Veionella':\n",
    "           msk=kmeans_mask_k(img,[bacinfo['B'][index],bacinfo['G'][index],bacinfo['R'][index]],int(bacinfo['no of clusters in kmeans'][index]))\n",
    "           print(msk.shape)\n",
    "           msk_clsd=morph_close_k(np.uint8(msk),int(bacinfo['kernel size '][index]))\n",
    "           cv2.imwrite(os.path.join(data_path,bac,'masked',image[:-4]+'_gt.tif'),msk_clsd)\n",
    "        else:\n",
    "           msk = otsu(img)\n",
    "           cv2.imwrite(os.path.join(data_path,bac,'masked',image[:-4]+'_gt.tif'),msk_clsd)\n",
    "        print(image)\n"
   ]
  },
  {
   "cell_type": "markdown",
   "id": "4355d14e",
   "metadata": {},
   "source": [
    "Splitting data"
   ]
  },
  {
   "cell_type": "code",
   "execution_count": null,
   "id": "4db25d45",
   "metadata": {},
   "outputs": [],
   "source": [
    "import shutil\n",
    "\n",
    "bacs=os.listdir(data_path)\n",
    "bacs.sort()\n",
    "for bac in bacs:\n",
    "    imgspath=os.path.join(data_path,bac,'images')\n",
    "    maskspath=os.path.join(data_path,bac,'masked')\n",
    "    imgs=os.listdir(imgspath)\n",
    "    imgs.sort()\n",
    "    masks=os.listdir(maskspath)\n",
    "    masks.sort()    \n",
    "    index=bacs.index(bac)\n",
    "    for image in imgs:\n",
    "        imgpath=os.path.join(imgspath,image)\n",
    "        mskpath=os.path.join(maskspath,image[:-4]+'_gt.tif')\n",
    "        nimgs=len(imgs)\n",
    "        index=imgs.index(image)+1\n",
    "        if nimgs==23:\n",
    "            if index<=13:\n",
    "                imgdst=os.path.join(dirpath,'data','train','images')\n",
    "                mskdst=os.path.join(dirpath,'data','train','masks')\n",
    "                shutil.copy(imgpath,imgdst)\n",
    "                shutil.copy(mskpath,mskdst)\n",
    "            if index<=18 and index > 13:\n",
    "                imgdst=os.path.join(dirpath,'data','validation','images')\n",
    "                mskdst=os.path.join(dirpath,'data','validation','masks')\n",
    "                shutil.copy(imgpath,imgdst)\n",
    "                shutil.copy(mskpath,mskdst)\n",
    "            if index>18:\n",
    "                imgdst=os.path.join(dirpath,'data','test','images')\n",
    "                mskdst=os.path.join(dirpath,'data','test','masks')\n",
    "                shutil.copy(imgpath,imgdst)\n",
    "                shutil.copy(mskpath,mskdst)            \n",
    "        if nimgs==22:\n",
    "            if index<=13:\n",
    "                imgdst=os.path.join(dirpath,'data','train','images')\n",
    "                mskdst=os.path.join(dirpath,'data','train','masks')\n",
    "                shutil.copy(imgpath,imgdst)\n",
    "                shutil.copy(mskpath,mskdst)\n",
    "            if index<=18 and index > 13:\n",
    "                imgdst=os.path.join(dirpath,'data','validation','images')\n",
    "                mskdst=os.path.join(dirpath,'data','validation','masks')\n",
    "                shutil.copy(imgpath,imgdst)\n",
    "                shutil.copy(mskpath,mskdst)\n",
    "            if index>18:\n",
    "                imgdst=os.path.join(dirpath,'data','test','images')\n",
    "                mskdst=os.path.join(dirpath,'data','test','masks')\n",
    "                shutil.copy(imgpath,imgdst)\n",
    "                shutil.copy(mskpath,mskdst)    \n",
    "        if nimgs==21:\n",
    "            if index<=13:\n",
    "                imgdst=os.path.join(dirpath,'data','train','images')\n",
    "                mskdst=os.path.join(dirpath,'data','train','masks')\n",
    "                shutil.copy(imgpath,imgdst)\n",
    "                shutil.copy(mskpath,mskdst)\n",
    "            if index<=17 and index > 13:\n",
    "                imgdst=os.path.join(dirpath,'data','validation','images')\n",
    "                mskdst=os.path.join(dirpath,'data','validation','masks')\n",
    "                shutil.copy(imgpath,imgdst)\n",
    "                shutil.copy(mskpath,mskdst)\n",
    "            if index>17:\n",
    "                imgdst=os.path.join(dirpath,'data','test','images')\n",
    "                mskdst=os.path.join(dirpath,'data','test','masks')\n",
    "                shutil.copy(imgpath,imgdst)\n",
    "                shutil.copy(mskpath,mskdst)    \n",
    "        if nimgs==20:\n",
    "            if index<=12:\n",
    "                imgdst=os.path.join(dirpath,'data','train','images')\n",
    "                mskdst=os.path.join(dirpath,'data','train','masks')\n",
    "                shutil.copy(imgpath,imgdst)\n",
    "                shutil.copy(mskpath,mskdst)\n",
    "            if index<=16 and index > 12:\n",
    "                imgdst=os.path.join(dirpath,'data','validation','images')\n",
    "                mskdst=os.path.join(dirpath,'data','validation','masks')\n",
    "                shutil.copy(imgpath,imgdst)\n",
    "                shutil.copy(mskpath,mskdst)\n",
    "            if index>16:\n",
    "                imgdst=os.path.join(dirpath,'data','test','images')\n",
    "                mskdst=os.path.join(dirpath,'data','test','masks')\n",
    "                shutil.copy(imgpath,imgdst)\n",
    "                shutil.copy(mskpath,mskdst)"
   ]
  },
  {
   "cell_type": "markdown",
   "id": "fe192e66",
   "metadata": {},
   "source": [
    "Cropping images"
   ]
  },
  {
   "cell_type": "code",
   "execution_count": null,
   "id": "d13ac293",
   "metadata": {},
   "outputs": [],
   "source": [
    "#cropping and saving training images\n",
    "\n",
    "imgspath= os.path.join(dirpath,'data','train','images')\n",
    "mskspath=  os.path.join(dirpath,'data','train','masks')\n",
    "bac_imgs = os.listdir(imgspath)\n",
    "svpathmsk = os.path.join(dirpath,'data','traincr','masks')\n",
    "svpathimg = os.path.join(dirpath,'data','traincr','images')\n",
    "k=0\n",
    "bac_imgs.sort()\n",
    "for bac_img in bac_imgs:\n",
    "  k=1\n",
    "  imgpath= os.path.join(imgspath,bac_img)\n",
    "  mskpath= os.path.join(mskspath,bac_img[:-4]+'_gt.tif')\n",
    "  img=cv2.imread(imgpath)\n",
    "  msk=cv2.imread(mskpath)\n",
    "  for j in range(0,5):\n",
    "    for i in range(0,4):\n",
    "\n",
    "      imcr=img[i*512-i*172:(i+1)*512-i*172,j*512-j*128:(j+1)*512-j*128]\n",
    "      mskcr=msk[i*512-i*172:(i+1)*512-i*172,j*512-j*128:(j+1)*512-j*128]\n",
    "      cv2.imwrite(os.path.join(svpathmsk,bac_img[:-4]+str(k)+'_gt.tif'),mskcr)\n",
    "      cv2.imwrite(os.path.join(svpathimg,bac_img[:-4]+str(k)+'tif'),imcr)\n",
    "      print(os.path.join(svpathmsk,bac_img[:-4]+'_'+str(k)+'_gt.tif'))\n",
    "            \n",
    "      k=k+1"
   ]
  },
  {
   "cell_type": "code",
   "execution_count": null,
   "id": "42665425",
   "metadata": {},
   "outputs": [],
   "source": [
    "#cropping and saving validation images\n",
    "imgspath= os.path.join(dirpath,'data','validation','images')\n",
    "mskspath=  os.path.join(dirpath,'data','validation','masks')\n",
    "bac_imgs = os.listdir(imgspath)\n",
    "svpathmsk = os.path.join(dirpath,'data','validationcr','masks')\n",
    "svpathimg = os.path.join(dirpath,'data','validationcr','images')\n",
    "k=0\n",
    "bac_imgs.sort()\n",
    "for bac_img in bac_imgs:\n",
    "  k=1\n",
    "  imgpath= os.path.join(imgspath,bac_img)\n",
    "  mskpath= os.path.join(mskspath,bac_img[:-4]+'_gt.tif')\n",
    "  img=cv2.imread(imgpath)\n",
    "  msk=cv2.imread(mskpath)\n",
    "  for j in range(0,4):\n",
    "    for i in range(0,3):\n",
    "      imcr=img[i*512-i*2:(i+1)*512-i*2,j*512:(j+1)*512]\n",
    "      mskcr=msk[i*512-i*2:(i+1)*512-i*2,j*512:(j+1)*512]\n",
    "      cv2.imwrite(os.path.join(svpathmsk,bac_img[:-4]+str(k)+'_gt.tif'),mskcr)\n",
    "      cv2.imwrite(os.path.join(svpathimg,bac_img[:-4]+str(k)+'tif'),imcr)\n",
    "      print(os.path.join(svpathmsk,bac_img[:-4]+'_'+str(k)+'_gt.tif'))\n",
    "            \n",
    "      k=k+1"
   ]
  },
  {
   "cell_type": "code",
   "execution_count": null,
   "id": "150fd918",
   "metadata": {},
   "outputs": [],
   "source": []
  }
 ],
 "metadata": {
  "kernelspec": {
   "display_name": "Python 3.10.4 ('data')",
   "language": "python",
   "name": "python3"
  },
  "language_info": {
   "codemirror_mode": {
    "name": "ipython",
    "version": 3
   },
   "file_extension": ".py",
   "mimetype": "text/x-python",
   "name": "python",
   "nbconvert_exporter": "python",
   "pygments_lexer": "ipython3",
   "version": "3.10.4"
  },
  "vscode": {
   "interpreter": {
    "hash": "69ece146485cf3a041ddf52b5cc6428b24052f3318592d1184edb7526e9e37d6"
   }
  }
 },
 "nbformat": 4,
 "nbformat_minor": 5
}
